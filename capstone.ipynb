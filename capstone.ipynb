{
 "cells": [
  {
   "cell_type": "markdown",
   "id": "0b8a776d",
   "metadata": {},
   "source": [
    "# An Analysis of Childcare Prices Across the United States\n",
    "## Drake Capstone Project\n",
    "### Author: Cera Drake\n",
    "### June 2025"
   ]
  },
  {
   "cell_type": "markdown",
   "id": "4c4d616a",
   "metadata": {},
   "source": [
    "##### Import and load the dataset"
   ]
  },
  {
   "cell_type": "code",
   "execution_count": 41,
   "id": "f7785aef",
   "metadata": {},
   "outputs": [
    {
     "name": "stdout",
     "output_type": "stream",
     "text": [
      "  State_Name State_Abbreviation     County_Name  County_FIPS_Code  StudyYear  \\\n",
      "0    Alabama                 AL  Autauga County              1001       2008   \n",
      "1    Alabama                 AL  Autauga County              1001       2009   \n",
      "2    Alabama                 AL  Autauga County              1001       2010   \n",
      "3    Alabama                 AL  Autauga County              1001       2011   \n",
      "4    Alabama                 AL  Autauga County              1001       2012   \n",
      "\n",
      "   UNR_16  FUNR_16  MUNR_16  UNR_20to64  FUNR_20to64  ...  MFCCToddler  \\\n",
      "0    5.42     4.41     6.32         4.6          3.5  ...      $83.45    \n",
      "1    5.93     5.72     6.11         4.8          4.6  ...      $87.39    \n",
      "2    6.21     5.57     6.78         5.1          4.6  ...      $91.33    \n",
      "3    7.55     8.13     7.03         6.2          6.3  ...      $95.28    \n",
      "4    8.60     8.88     8.29         6.7          6.4  ...      $99.22    \n",
      "\n",
      "   MFCCToddler_flag  MFCCPreschool  MFCCPreschool_flag  _75FCCInfant  \\\n",
      "0               3.0        $81.40                  1.0       $97.40    \n",
      "1               3.0        $85.68                  1.0      $102.00    \n",
      "2               3.0        $89.96                  1.0      $106.60    \n",
      "3               3.0        $94.25                  1.0      $111.20    \n",
      "4               3.0        $98.53                  1.0      $115.80    \n",
      "\n",
      "   _75FCCInfant_flag  _75FCCToddler  _75FCCToddler_flag _75FCCPreschool  \\\n",
      "0                1.0        $97.40                  3.0         $95.00    \n",
      "1                1.0       $102.00                  3.0        $100.00    \n",
      "2                1.0       $106.60                  3.0        $105.00    \n",
      "3                1.0       $111.20                  3.0        $110.00    \n",
      "4                1.0       $115.80                  3.0        $115.00    \n",
      "\n",
      "  _75FCCPreschool_flag  \n",
      "0                  1.0  \n",
      "1                  1.0  \n",
      "2                  1.0  \n",
      "3                  1.0  \n",
      "4                  1.0  \n",
      "\n",
      "[5 rows x 227 columns]\n"
     ]
    }
   ],
   "source": [
    "import pandas as pd\n",
    "\n",
    "df = pd.read_csv(\"nationaldatabaseofchildcareprices.csv\", encoding='latin1')  \n",
    "print(df.head())"
   ]
  },
  {
   "cell_type": "code",
   "execution_count": 42,
   "id": "034d047d",
   "metadata": {},
   "outputs": [
    {
     "name": "stdout",
     "output_type": "stream",
     "text": [
      "Number of rows: 34567\n",
      "Number of columns: 227\n"
     ]
    }
   ],
   "source": [
    "df = pd.read_csv(\"nationaldatabaseofchildcareprices.csv\", encoding= 'latin1')\n",
    "rows, columns = df.shape\n",
    "\n",
    "print(f\"Number of rows: {rows}\")\n",
    "print(f\"Number of columns: {columns}\")"
   ]
  },
  {
   "cell_type": "code",
   "execution_count": 43,
   "id": "88e1fc97",
   "metadata": {},
   "outputs": [
    {
     "data": {
      "text/plain": [
       "Index(['State_Name', 'State_Abbreviation', 'County_Name', 'County_FIPS_Code',\n",
       "       'StudyYear', 'UNR_16', 'FUNR_16', 'MUNR_16', 'UNR_20to64',\n",
       "       'FUNR_20to64',\n",
       "       ...\n",
       "       'MFCCToddler', 'MFCCToddler_flag', 'MFCCPreschool',\n",
       "       'MFCCPreschool_flag', '_75FCCInfant', '_75FCCInfant_flag',\n",
       "       '_75FCCToddler', '_75FCCToddler_flag', '_75FCCPreschool',\n",
       "       '_75FCCPreschool_flag'],\n",
       "      dtype='object', length=227)"
      ]
     },
     "execution_count": 43,
     "metadata": {},
     "output_type": "execute_result"
    }
   ],
   "source": [
    "df.columns"
   ]
  },
  {
   "cell_type": "markdown",
   "id": "513f3a47",
   "metadata": {},
   "source": [
    "### Clean the Data"
   ]
  },
  {
   "cell_type": "code",
   "execution_count": 44,
   "id": "1442503b",
   "metadata": {},
   "outputs": [
    {
     "name": "stdout",
     "output_type": "stream",
     "text": [
      "H_Under6_SingleM            2\n",
      "H_6to17_SingleM             2\n",
      "MCBto5                  10974\n",
      "MC6to11                 10974\n",
      "MC12to17                10974\n",
      "                        ...  \n",
      "_75FCCInfant_flag       11184\n",
      "_75FCCToddler           11184\n",
      "_75FCCToddler_flag      11184\n",
      "_75FCCPreschool         11184\n",
      "_75FCCPreschool_flag    11184\n",
      "Length: 114, dtype: int64\n"
     ]
    }
   ],
   "source": [
    "# View the missing data\n",
    "missing = df.isnull().sum()\n",
    "print(missing[missing > 0])"
   ]
  },
  {
   "cell_type": "code",
   "execution_count": 45,
   "id": "41e29e38",
   "metadata": {},
   "outputs": [
    {
     "name": "stdout",
     "output_type": "stream",
     "text": [
      "_75FCCInfant       32.354558\n",
      "_75FCCToddler      32.354558\n",
      "_75FCCPreschool    32.354558\n",
      "_75CInfant         31.747042\n",
      "_75CToddler        31.747042\n",
      "_75CPreschool      31.747042\n",
      "dtype: float64\n"
     ]
    }
   ],
   "source": [
    "# See what percentage of columns have missing data in the columns that I will be using\n",
    "missing = df[[\n",
    "    '_75FCCInfant', '_75FCCToddler', '_75FCCPreschool',\n",
    "    '_75CInfant', '_75CToddler', '_75CPreschool'\n",
    "]].isnull().mean() * 100\n",
    "\n",
    "print(missing)"
   ]
  },
  {
   "cell_type": "code",
   "execution_count": 46,
   "id": "8dd943ed",
   "metadata": {},
   "outputs": [
    {
     "name": "stdout",
     "output_type": "stream",
     "text": [
      "_75FCCInfant_flag       32.354558\n",
      "_75FCCToddler_flag      32.354558\n",
      "_75FCCPreschool_flag    32.354558\n",
      "_75CInfant_flag         31.747042\n",
      "_75CToddler_flag        31.747042\n",
      "_75CPreschool_flag      31.747042\n",
      "dtype: float64\n"
     ]
    }
   ],
   "source": [
    "# See what percentage of columns have missing data in the columns that I will be using\n",
    "missing = df[[\n",
    "    '_75FCCInfant_flag', '_75FCCToddler_flag', '_75FCCPreschool_flag',\n",
    "    '_75CInfant_flag', '_75CToddler_flag', '_75CPreschool_flag'\n",
    "]].isnull().mean() * 100\n",
    "\n",
    "print(missing)"
   ]
  },
  {
   "cell_type": "code",
   "execution_count": 47,
   "id": "9627062d",
   "metadata": {},
   "outputs": [],
   "source": [
    "# Over 30% of the rows in each of the columns I want to use has missing data. That is too much. Let's limit it to more recent years\n",
    "# Filter for years 2014-2018\n",
    "df_recent = df[df['StudyYear'].between(2014, 2018)]"
   ]
  },
  {
   "cell_type": "code",
   "execution_count": 48,
   "id": "19c937d6",
   "metadata": {},
   "outputs": [],
   "source": [
    "# Keep only the columns I want to use\n",
    "columns_to_use = [\n",
    "    'State_Name', 'StudyYear',\n",
    "    '_75FCCInfant', '_75FCCToddler', '_75FCCPreschool',\n",
    "    '_75CInfant', '_75CToddler', '_75CPreschool'\n",
    "]\n",
    "df_recent = df_recent[columns_to_use]"
   ]
  },
  {
   "cell_type": "code",
   "execution_count": 49,
   "id": "fca054ff",
   "metadata": {},
   "outputs": [],
   "source": [
    "# Remove missing values\n",
    "df_clean = df_recent.dropna()"
   ]
  },
  {
   "cell_type": "code",
   "execution_count": 50,
   "id": "20991e8b",
   "metadata": {},
   "outputs": [
    {
     "name": "stdout",
     "output_type": "stream",
     "text": [
      "Number of rows after filtering: 12045\n",
      "Number of unique states: 48\n",
      "Years included: [2014 2015 2016 2017 2018]\n"
     ]
    }
   ],
   "source": [
    "#Show remaining data\n",
    "print(\"Number of rows after filtering:\", len(df_clean))\n",
    "print(\"Number of unique states:\", df_clean['State_Name'].nunique())\n",
    "print(\"Years included:\", df_clean['StudyYear'].unique())"
   ]
  },
  {
   "cell_type": "code",
   "execution_count": 51,
   "id": "ce7b10cf",
   "metadata": {},
   "outputs": [],
   "source": [
    "df_clean.to_csv(\"cleaned_childcare_data.csv\", index=False)"
   ]
  }
 ],
 "metadata": {
  "kernelspec": {
   "display_name": ".venv",
   "language": "python",
   "name": "python3"
  },
  "language_info": {
   "codemirror_mode": {
    "name": "ipython",
    "version": 3
   },
   "file_extension": ".py",
   "mimetype": "text/x-python",
   "name": "python",
   "nbconvert_exporter": "python",
   "pygments_lexer": "ipython3",
   "version": "3.12.2"
  }
 },
 "nbformat": 4,
 "nbformat_minor": 5
}
