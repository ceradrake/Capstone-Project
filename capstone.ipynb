{
 "cells": [
  {
   "cell_type": "markdown",
   "id": "0b8a776d",
   "metadata": {},
   "source": [
    "# An Analysis of Childcare Prices Across the United States\n",
    "## Drake Capstone Project\n",
    "### Author: Cera Drake\n",
    "### June 2025"
   ]
  },
  {
   "cell_type": "markdown",
   "id": "4c4d616a",
   "metadata": {},
   "source": [
    "##### Import and load the dataset"
   ]
  },
  {
   "cell_type": "code",
   "execution_count": 14,
   "id": "f7785aef",
   "metadata": {},
   "outputs": [
    {
     "name": "stdout",
     "output_type": "stream",
     "text": [
      "  State_Name State_Abbreviation     County_Name  County_FIPS_Code  StudyYear  \\\n",
      "0    Alabama                 AL  Autauga County              1001       2008   \n",
      "1    Alabama                 AL  Autauga County              1001       2009   \n",
      "2    Alabama                 AL  Autauga County              1001       2010   \n",
      "3    Alabama                 AL  Autauga County              1001       2011   \n",
      "4    Alabama                 AL  Autauga County              1001       2012   \n",
      "\n",
      "   UNR_16  FUNR_16  MUNR_16  UNR_20to64  FUNR_20to64  ...  MFCCToddler  \\\n",
      "0    5.42     4.41     6.32         4.6          3.5  ...      $83.45    \n",
      "1    5.93     5.72     6.11         4.8          4.6  ...      $87.39    \n",
      "2    6.21     5.57     6.78         5.1          4.6  ...      $91.33    \n",
      "3    7.55     8.13     7.03         6.2          6.3  ...      $95.28    \n",
      "4    8.60     8.88     8.29         6.7          6.4  ...      $99.22    \n",
      "\n",
      "   MFCCToddler_flag  MFCCPreschool  MFCCPreschool_flag  _75FCCInfant  \\\n",
      "0               3.0        $81.40                  1.0       $97.40    \n",
      "1               3.0        $85.68                  1.0      $102.00    \n",
      "2               3.0        $89.96                  1.0      $106.60    \n",
      "3               3.0        $94.25                  1.0      $111.20    \n",
      "4               3.0        $98.53                  1.0      $115.80    \n",
      "\n",
      "   _75FCCInfant_flag  _75FCCToddler  _75FCCToddler_flag _75FCCPreschool  \\\n",
      "0                1.0        $97.40                  3.0         $95.00    \n",
      "1                1.0       $102.00                  3.0        $100.00    \n",
      "2                1.0       $106.60                  3.0        $105.00    \n",
      "3                1.0       $111.20                  3.0        $110.00    \n",
      "4                1.0       $115.80                  3.0        $115.00    \n",
      "\n",
      "  _75FCCPreschool_flag  \n",
      "0                  1.0  \n",
      "1                  1.0  \n",
      "2                  1.0  \n",
      "3                  1.0  \n",
      "4                  1.0  \n",
      "\n",
      "[5 rows x 227 columns]\n"
     ]
    }
   ],
   "source": [
    "import pandas as pd\n",
    "\n",
    "df = pd.read_csv(\"nationaldatabaseofchildcareprices.csv\", encoding='latin1')  \n",
    "print(df.head())"
   ]
  }
 ],
 "metadata": {
  "kernelspec": {
   "display_name": ".venv",
   "language": "python",
   "name": "python3"
  },
  "language_info": {
   "codemirror_mode": {
    "name": "ipython",
    "version": 3
   },
   "file_extension": ".py",
   "mimetype": "text/x-python",
   "name": "python",
   "nbconvert_exporter": "python",
   "pygments_lexer": "ipython3",
   "version": "3.12.2"
  }
 },
 "nbformat": 4,
 "nbformat_minor": 5
}
